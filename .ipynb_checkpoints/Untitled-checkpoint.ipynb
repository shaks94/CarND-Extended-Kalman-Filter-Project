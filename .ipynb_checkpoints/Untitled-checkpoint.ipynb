{
 "cells": [
  {
   "cell_type": "markdown",
   "metadata": {},
   "source": [
    "# Extended-Kalman-Filter\n",
    "\n",
    "## The aim of the project\n",
    "\n",
    " * Using computer vision for various taskes \n",
    "    1 To utilize Extended-Kalman-Filter in the projcet and \n",
    "    2 Use the sensors input data to find  lowest root mean square error \n",
    "    \n",
    "    \n",
    "    \n",
    "###  File submited for review\n",
    "\n",
    "\n",
    "File submission inculde all the required files that are necessary to quialy the project submission\n",
    "\n",
    "   1) FusionEKF.cpp\n",
    "   2) kalman_filter.cpp\n",
    "   3) tools.cpp\n",
    "   4) README.md\n",
    "\n",
    "### Below is the images of the car with rmse \n",
    "\n",
    "##### This image is run on data set 1 and has \n",
    "\n",
    "--------------------------------------\n",
    "| x       | y      |vx      | vy     | \n",
    "|---------|------- |--------|--------|\n",
    "| .0980   | .0840  |.3388   |  .4456 | \n",
    "\n",
    "\n",
    "<img src=\"projectImages/img1.png\" width=\"700\"/>\n",
    "\n",
    "\n",
    "\n",
    "\n",
    "##### This image is run on data set 2 and has \n",
    "--------------------------------------\n",
    "| x       | y      |vx      | vy     | \n",
    "|---------|------- |--------|--------|\n",
    "| .0726   | .0965  |.4216   |  .4932 | \n",
    "<img src=\"projectImages/img2.png\" width=\"700\"/>\n",
    "\n",
    "\n",
    "\n",
    "### Description \n",
    "\n",
    "The proeject mainly takes the input from the sensor, mainly two types of sensors laidar and raidar, pip them into single channel in the hope the chances of error whould be lot less \n",
    "\n",
    "here is the image which display the actual working of the procedure \n",
    "\n",
    "\n",
    "<img src=\"projectImages/img3.png\" width=\"700\"/>\n",
    "\n"
   ]
  },
  {
   "cell_type": "code",
   "execution_count": null,
   "metadata": {},
   "outputs": [],
   "source": []
  }
 ],
 "metadata": {
  "kernelspec": {
   "display_name": "Python [conda env:self_driving]",
   "language": "python",
   "name": "conda-env-self_driving-py"
  },
  "language_info": {
   "codemirror_mode": {
    "name": "ipython",
    "version": 3
   },
   "file_extension": ".py",
   "mimetype": "text/x-python",
   "name": "python",
   "nbconvert_exporter": "python",
   "pygments_lexer": "ipython3",
   "version": "3.6.4"
  }
 },
 "nbformat": 4,
 "nbformat_minor": 2
}
